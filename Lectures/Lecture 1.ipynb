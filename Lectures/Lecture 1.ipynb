{
 "cells": [
  {
   "cell_type": "markdown",
   "metadata": {},
   "source": [
    "# ECE 447: Introduction to Python programming\n",
    "\n",
    "The goal of this lecture is to cover the basis elements of python programming techniques that you will use in this course. We will cover the following topics in this unit\n",
    "- Python basics\n",
    "- Flow control\n",
    "- Writing functions\n",
    "- Storing data\n",
    "- Manipulating strings\n",
    "- Reading and displaying imaging (*Matplotlib*)\n",
    "- Matrix operations\n",
    "\n",
    "There are several python distribution but I recommend [Anaconda distribution of python](https://store.continuum.io/cshop/anaconda) scientific distribution]], which is free for\n",
    "academic use and contain all the popular Python packages you will need. For this course, we will be using\n",
    "Python 3; therefore, please do not install Python 2.7 otherwise several of the exercise that I provide will\n",
    "not work correctly."
   ]
  },
  {
   "cell_type": "markdown",
   "metadata": {},
   "source": [
    "## Python as a simple calculator\n",
    "\n",
    "List of simple mathematical operations you can do in python."
   ]
  },
  {
   "cell_type": "markdown",
   "metadata": {},
   "source": [
    "\n",
    "| Operation | Operator         | Example | Results |\n",
    "|-----------|------------------|---------|---------|\n",
    "| %         | Modulus/reminder | 22 % 8  |       6 |\n",
    "| //        | Integer division | 22 // 8 |       2 |\n",
    "| '/'       | Division         | 4/2     |       2 |\n",
    "| *         | Multiplication   | 4 * 2   |       8 |\n",
    "| -         | Subtraction      | 4 - 2   |       2 |\n",
    "| +         | Addition         | 8 + 2   |      10 |\n",
    "| **        | Expotential      |2**3     |       8 |"
   ]
  },
  {
   "cell_type": "code",
   "execution_count": 1,
   "metadata": {
    "collapsed": false
   },
   "outputs": [
    {
     "name": "stdout",
     "output_type": "stream",
     "text": [
      "addition 10\n"
     ]
    }
   ],
   "source": [
    "print(\"addition\", 5+5)"
   ]
  },
  {
   "cell_type": "code",
   "execution_count": 2,
   "metadata": {
    "collapsed": false
   },
   "outputs": [
    {
     "name": "stdout",
     "output_type": "stream",
     "text": [
      "addition 10\n"
     ]
    }
   ],
   "source": [
    "print(\"Subtraction\", 15-5)"
   ]
  },
  {
   "cell_type": "code",
   "execution_count": 3,
   "metadata": {
    "collapsed": false
   },
   "outputs": [
    {
     "name": "stdout",
     "output_type": "stream",
     "text": [
      "addition 0.5\n"
     ]
    }
   ],
   "source": [
    "print(\"Division\", 1/2)"
   ]
  },
  {
   "cell_type": "markdown",
   "metadata": {},
   "source": [
    "Note that Python 2.7 do produce 0 because numerator and denominators are both integers, which is identical to the interger division example shown below."
   ]
  },
  {
   "cell_type": "code",
   "execution_count": 4,
   "metadata": {
    "collapsed": false
   },
   "outputs": [
    {
     "name": "stdout",
     "output_type": "stream",
     "text": [
      "addition 0\n"
     ]
    }
   ],
   "source": [
    "print(\"Integer Division\", 1//2)"
   ]
  },
  {
   "cell_type": "code",
   "execution_count": 6,
   "metadata": {
    "collapsed": false
   },
   "outputs": [
    {
     "name": "stdout",
     "output_type": "stream",
     "text": [
      "addition 100\n"
     ]
    }
   ],
   "source": [
    "print(\"priority rule 2\", (5+5)*10)"
   ]
  },
  {
   "cell_type": "markdown",
   "metadata": {},
   "source": [
    "## Priority rule"
   ]
  },
  {
   "cell_type": "markdown",
   "metadata": {},
   "source": [
    "All languages have a priorty rule, which states that \n",
    "1. Multiplication and Division occurs before  addition or subtraction\n",
    "2. Operations goes from left to right\n",
    "3. All operations in brackets are performed first"
   ]
  },
  {
   "cell_type": "code",
   "execution_count": 2,
   "metadata": {
    "collapsed": false
   },
   "outputs": [
    {
     "name": "stdout",
     "output_type": "stream",
     "text": [
      "priority rule 55\n"
     ]
    }
   ],
   "source": [
    "print(\"priority rule\", 5+5*10)"
   ]
  },
  {
   "cell_type": "code",
   "execution_count": 3,
   "metadata": {
    "collapsed": false
   },
   "outputs": [
    {
     "name": "stdout",
     "output_type": "stream",
     "text": [
      "priority rule 100\n"
     ]
    }
   ],
   "source": [
    "print(\"priority rule\", (5+5)*10)"
   ]
  },
  {
   "cell_type": "markdown",
   "metadata": {},
   "source": [
    "# String manlipulations"
   ]
  },
  {
   "cell_type": "markdown",
   "metadata": {},
   "source": [
    "Python makes it easy to add multiple strings together. However, other mathematical operation are not\n",
    "allowed. You are also not allowed to mix strings with numbers. However, if you need to do this you will need\n",
    "to use the **str()** function. Your code will crash if you violate this rule. To replicate, we multiply."
   ]
  },
  {
   "cell_type": "code",
   "execution_count": 5,
   "metadata": {
    "collapsed": true
   },
   "outputs": [],
   "source": [
    "a = \"Hello \"\n",
    "b = \"World \""
   ]
  },
  {
   "cell_type": "code",
   "execution_count": 6,
   "metadata": {
    "collapsed": false
   },
   "outputs": [
    {
     "name": "stdout",
     "output_type": "stream",
     "text": [
      "Hello World \n"
     ]
    }
   ],
   "source": [
    "print(a+b)"
   ]
  },
  {
   "cell_type": "markdown",
   "metadata": {},
   "source": [
    "What happen if we subtract two strings ?"
   ]
  },
  {
   "cell_type": "code",
   "execution_count": 7,
   "metadata": {
    "collapsed": false
   },
   "outputs": [
    {
     "ename": "TypeError",
     "evalue": "unsupported operand type(s) for -: 'str' and 'str'",
     "output_type": "error",
     "traceback": [
      "\u001b[0;31m---------------------------------------------------------------------------\u001b[0m",
      "\u001b[0;31mTypeError\u001b[0m                                 Traceback (most recent call last)",
      "\u001b[0;32m<ipython-input-7-c7f11f57198b>\u001b[0m in \u001b[0;36m<module>\u001b[0;34m()\u001b[0m\n\u001b[0;32m----> 1\u001b[0;31m \u001b[0mprint\u001b[0m\u001b[0;34m(\u001b[0m\u001b[0ma\u001b[0m\u001b[0;34m-\u001b[0m\u001b[0mb\u001b[0m\u001b[0;34m)\u001b[0m\u001b[0;34m\u001b[0m\u001b[0m\n\u001b[0m",
      "\u001b[0;31mTypeError\u001b[0m: unsupported operand type(s) for -: 'str' and 'str'"
     ]
    }
   ],
   "source": [
    "print(a-b)"
   ]
  },
  {
   "cell_type": "markdown",
   "metadata": {},
   "source": [
    "What about mulplication?"
   ]
  },
  {
   "cell_type": "code",
   "execution_count": 8,
   "metadata": {
    "collapsed": false
   },
   "outputs": [
    {
     "ename": "TypeError",
     "evalue": "can't multiply sequence by non-int of type 'str'",
     "output_type": "error",
     "traceback": [
      "\u001b[0;31m---------------------------------------------------------------------------\u001b[0m",
      "\u001b[0;31mTypeError\u001b[0m                                 Traceback (most recent call last)",
      "\u001b[0;32m<ipython-input-8-47507e997195>\u001b[0m in \u001b[0;36m<module>\u001b[0;34m()\u001b[0m\n\u001b[0;32m----> 1\u001b[0;31m \u001b[0mprint\u001b[0m\u001b[0;34m(\u001b[0m\u001b[0ma\u001b[0m\u001b[0;34m*\u001b[0m\u001b[0mb\u001b[0m\u001b[0;34m)\u001b[0m\u001b[0;34m\u001b[0m\u001b[0m\n\u001b[0m",
      "\u001b[0;31mTypeError\u001b[0m: can't multiply sequence by non-int of type 'str'"
     ]
    }
   ],
   "source": [
    "print(a*b)"
   ]
  },
  {
   "cell_type": "markdown",
   "metadata": {},
   "source": [
    "We also get an error, but we get now error if we mupliply by a constant. Instead we replicate the string"
   ]
  },
  {
   "cell_type": "code",
   "execution_count": 9,
   "metadata": {
    "collapsed": false
   },
   "outputs": [
    {
     "name": "stdout",
     "output_type": "stream",
     "text": [
      "Hello World Hello World Hello World Hello World Hello World \n"
     ]
    }
   ],
   "source": [
    "print(5*(a+b))"
   ]
  },
  {
   "cell_type": "markdown",
   "metadata": {},
   "source": [
    "We can also do string concatination (add a number to string)"
   ]
  },
  {
   "cell_type": "code",
   "execution_count": 15,
   "metadata": {
    "collapsed": true
   },
   "outputs": [],
   "source": [
    "cnt =5"
   ]
  },
  {
   "cell_type": "code",
   "execution_count": 13,
   "metadata": {
    "collapsed": false
   },
   "outputs": [],
   "source": [
    "fname= \"digialFile\""
   ]
  },
  {
   "cell_type": "code",
   "execution_count": 16,
   "metadata": {
    "collapsed": false
   },
   "outputs": [
    {
     "ename": "TypeError",
     "evalue": "Can't convert 'int' object to str implicitly",
     "output_type": "error",
     "traceback": [
      "\u001b[0;31m---------------------------------------------------------------------------\u001b[0m",
      "\u001b[0;31mTypeError\u001b[0m                                 Traceback (most recent call last)",
      "\u001b[0;32m<ipython-input-16-1b996d9fa32a>\u001b[0m in \u001b[0;36m<module>\u001b[0;34m()\u001b[0m\n\u001b[0;32m----> 1\u001b[0;31m \u001b[0mfname1\u001b[0m \u001b[0;34m=\u001b[0m \u001b[0mfname\u001b[0m\u001b[0;34m+\u001b[0m\u001b[0mcnt\u001b[0m\u001b[0;34m\u001b[0m\u001b[0m\n\u001b[0m",
      "\u001b[0;31mTypeError\u001b[0m: Can't convert 'int' object to str implicitly"
     ]
    }
   ],
   "source": [
    "fname1 = fname+cnt"
   ]
  },
  {
   "cell_type": "markdown",
   "metadata": {},
   "source": [
    "Fails because fname and cnt are different data types (string and int). To fix this we need to convert cnt to a string"
   ]
  },
  {
   "cell_type": "code",
   "execution_count": 17,
   "metadata": {
    "collapsed": false
   },
   "outputs": [],
   "source": [
    "fname1=fname+str(cnt)"
   ]
  },
  {
   "cell_type": "code",
   "execution_count": 18,
   "metadata": {
    "collapsed": false
   },
   "outputs": [
    {
     "name": "stdout",
     "output_type": "stream",
     "text": [
      "digialFile5\n"
     ]
    }
   ],
   "source": [
    "print(fname1)"
   ]
  },
  {
   "cell_type": "code",
   "execution_count": 22,
   "metadata": {
    "collapsed": true
   },
   "outputs": [],
   "source": [
    "fname1=fname+str(cnt).zfill(3)+\".txt\" # much better, very useful in long simulations"
   ]
  },
  {
   "cell_type": "code",
   "execution_count": 21,
   "metadata": {
    "collapsed": false
   },
   "outputs": [
    {
     "name": "stdout",
     "output_type": "stream",
     "text": [
      "digialFile005.txt\n"
     ]
    }
   ],
   "source": [
    "print(fname1)"
   ]
  },
  {
   "cell_type": "markdown",
   "metadata": {},
   "source": [
    "## Getting information from keyboard\n",
    "\n",
    "Like MATLAB you will use the **input** function. **ONE WORD OF CAUTION INPUT VARIABLE IS ALWAYS A STRING** so you may need to convert it to the desired data type to produce useful results"
   ]
  },
  {
   "cell_type": "code",
   "execution_count": 18,
   "metadata": {
    "collapsed": false
   },
   "outputs": [
    {
     "name": "stdout",
     "output_type": "stream",
     "text": [
      "What is your name ? Marvin Doyley\n",
      "Hello  Marvin Doyley\n",
      "Your name has  13 characters\n"
     ]
    }
   ],
   "source": [
    "a = input(\"What is your name ? \")\n",
    "print(\"Hello \", a)\n",
    "print(\"Your name has \", len(a), \"characters\")"
   ]
  },
  {
   "cell_type": "code",
   "execution_count": 21,
   "metadata": {
    "collapsed": false
   },
   "outputs": [
    {
     "name": "stdout",
     "output_type": "stream",
     "text": [
      "enter first number 5\n",
      "enter second number5\n",
      "Total is 10\n"
     ]
    }
   ],
   "source": [
    "a = input(\"enter first number \")\n",
    "b = input(\"enter second number\")\n",
    "print(\"Total is\", int(a)+int(b))"
   ]
  },
  {
   "cell_type": "markdown",
   "metadata": {
    "collapsed": true
   },
   "source": [
    "## Python Data types\n",
    "\n",
    "1. Integers: 1, 2, 3\n",
    "2. Floats: 2.0,3.0,4.0\n",
    "3. Strings: \"able\", \"bread\", \"car\", \"house\"\n",
    "4. Complex: 5+2j"
   ]
  },
  {
   "cell_type": "code",
   "execution_count": 23,
   "metadata": {
    "collapsed": false
   },
   "outputs": [],
   "source": [
    "z=5+2j"
   ]
  },
  {
   "cell_type": "markdown",
   "metadata": {
    "collapsed": true
   },
   "source": [
    "Use the **type** function to determine the data type of a variable."
   ]
  },
  {
   "cell_type": "code",
   "execution_count": 25,
   "metadata": {
    "collapsed": false
   },
   "outputs": [
    {
     "data": {
      "text/plain": [
       "complex"
      ]
     },
     "execution_count": 25,
     "metadata": {},
     "output_type": "execute_result"
    }
   ],
   "source": [
    "type(z)"
   ]
  },
  {
   "cell_type": "markdown",
   "metadata": {},
   "source": [
    "##Variables\n",
    "\n",
    "Variable are place holders that we used to store values in computer memory. For examples lets say the\n",
    "temperature on Mon and Tue were 10 and 50 degrees and we want the average temperature for the two days. Then\n",
    "we use variables to store the values for each day. Then compute the average. The nice thing about variables is\n",
    "that we don't need to keep of the values, instead we keep track of the variable, which is generally\n",
    "easier. Variables are not fix, we can change them as we wish. The only rules concerning variables is the\n",
    "naming conversion:\n",
    "1. one word\n",
    "2. cannot begin with a number\n",
    "3. can use letters and numbers and the underscore (_)\n",
    "4. Can upper and lowercase (but they are case sensitive)\n",
    "5. hyphenation is not allowed\n",
    "\n",
    "As a simple exercise, lets write simple program for converting temperature for Celsius to to Farhrenheit"
   ]
  },
  {
   "cell_type": "markdown",
   "metadata": {},
   "source": [
    "\\begin{equation}\n",
    "\\displaystyle F= C \\times \\frac{9}{5} + 32\n",
    "\\end{equation}\n",
    "\n",
    "\\begin{equation}\n",
    "\\displaystyle C=(F-32)\\times \\frac{5}{9}\n",
    "\\end{equation}"
   ]
  },
  {
   "cell_type": "code",
   "execution_count": 26,
   "metadata": {
    "collapsed": false
   },
   "outputs": [
    {
     "name": "stdout",
     "output_type": "stream",
     "text": [
      "Temperature in Farhrenheit =  122.0\n"
     ]
    }
   ],
   "source": [
    "C=50\n",
    "print(\"Temperature in Farhrenheit = \", (C*9/5) + 32)"
   ]
  },
  {
   "cell_type": "code",
   "execution_count": 27,
   "metadata": {
    "collapsed": false
   },
   "outputs": [
    {
     "name": "stdout",
     "output_type": "stream",
     "text": [
      "Temperature in Celsius =  50.0\n"
     ]
    }
   ],
   "source": [
    "F=122\n",
    "print(\"Temperature in Celsius = \", (F-32)* (5/9))"
   ]
  },
  {
   "cell_type": "markdown",
   "metadata": {},
   "source": [
    "## Functions\n",
    "Python has now start or end, the only deliminator is (:) and indentation. All function starts with **def()**\n",
    "keyword. Note the position of the colon (after the function name) and everything at the same level of indentation is in the function. The results can be returned as a list or two seperate variables as illustrated below"
   ]
  },
  {
   "cell_type": "code",
   "execution_count": 29,
   "metadata": {
    "collapsed": false
   },
   "outputs": [],
   "source": [
    "def addiff(x,y):\n",
    "    \"\"\"\n",
    "    x is first variable\n",
    "    y is second variable\n",
    "    \"\"\"\n",
    "    s=x+y\n",
    "    d =x-y   # difference between x and y\n",
    "    return(s,d)"
   ]
  },
  {
   "cell_type": "code",
   "execution_count": 30,
   "metadata": {
    "collapsed": true
   },
   "outputs": [],
   "source": [
    "a,b=addiff(10,5)"
   ]
  },
  {
   "cell_type": "code",
   "execution_count": 32,
   "metadata": {
    "collapsed": false
   },
   "outputs": [
    {
     "name": "stdout",
     "output_type": "stream",
     "text": [
      "Sum =  15\n"
     ]
    }
   ],
   "source": [
    "print(\"Sum = \",a)"
   ]
  },
  {
   "cell_type": "code",
   "execution_count": 33,
   "metadata": {
    "collapsed": false
   },
   "outputs": [
    {
     "name": "stdout",
     "output_type": "stream",
     "text": [
      "Differencce =  5\n"
     ]
    }
   ],
   "source": [
    "print(\"Differencce = \",b)"
   ]
  },
  {
   "cell_type": "code",
   "execution_count": 35,
   "metadata": {
    "collapsed": true
   },
   "outputs": [],
   "source": [
    "V=addiff(10,5) # returning the answer as a list"
   ]
  },
  {
   "cell_type": "code",
   "execution_count": 36,
   "metadata": {
    "collapsed": false
   },
   "outputs": [
    {
     "name": "stdout",
     "output_type": "stream",
     "text": [
      "Sum =  15\n"
     ]
    }
   ],
   "source": [
    "print(\"Sum = \",V[0])"
   ]
  },
  {
   "cell_type": "code",
   "execution_count": 37,
   "metadata": {
    "collapsed": false
   },
   "outputs": [
    {
     "name": "stdout",
     "output_type": "stream",
     "text": [
      "Differencce =  5\n"
     ]
    }
   ],
   "source": [
    "print(\"Differencce = \",V[1])"
   ]
  },
  {
   "cell_type": "markdown",
   "metadata": {},
   "source": [
    "The difference is that first element of the list corresponds to the s, and the second element of the list corresponds to d. A list is a data structure that can contain a mixture of variables. You will learn more about this during the course. Below is a list consiting of an int, float, string, and complex elements."
   ]
  },
  {
   "cell_type": "code",
   "execution_count": 38,
   "metadata": {
    "collapsed": true
   },
   "outputs": [],
   "source": [
    "a=[1,2.0,\"heee\",3+4j]"
   ]
  },
  {
   "cell_type": "code",
   "execution_count": 39,
   "metadata": {
    "collapsed": false
   },
   "outputs": [
    {
     "data": {
      "text/plain": [
       "[1, 2.0, 'heee', (3+4j)]"
      ]
     },
     "execution_count": 39,
     "metadata": {},
     "output_type": "execute_result"
    }
   ],
   "source": [
    "a"
   ]
  },
  {
   "cell_type": "markdown",
   "metadata": {},
   "source": [
    "Modules can viewed as a collection of functions that are stored in a file. In the following example I am going make a module in IPython notebook and save it to file then import it (Pretty cool). For this I am going to use the writefile magic function"
   ]
  },
  {
   "cell_type": "code",
   "execution_count": 62,
   "metadata": {
    "collapsed": false
   },
   "outputs": [
    {
     "name": "stdout",
     "output_type": "stream",
     "text": [
      "Writing example1.py\n"
     ]
    }
   ],
   "source": [
    "%%writefile example1.py \n",
    "def cel2f(x):\n",
    "    \"\"\"\n",
    "    Converts Celcius to Farhrenheit\n",
    "    \"\"\"\n",
    "    return((x*9/5)+32)\n",
    "\n",
    "def f2cell(y):\n",
    "    \"\"\"\n",
    "    Converts Farhrenheit to Celcius\n",
    "    \"\"\"\n",
    "    return((y-32)*5/9)"
   ]
  },
  {
   "cell_type": "code",
   "execution_count": 43,
   "metadata": {
    "collapsed": true
   },
   "outputs": [],
   "source": [
    "import example1  #doesn't crash because it is in the same path as where the notebook was started"
   ]
  },
  {
   "cell_type": "code",
   "execution_count": 44,
   "metadata": {
    "collapsed": false
   },
   "outputs": [
    {
     "name": "stdout",
     "output_type": "stream",
     "text": [
      "212.0\n"
     ]
    }
   ],
   "source": [
    "print(example1.cel2f(100))"
   ]
  },
  {
   "cell_type": "code",
   "execution_count": 45,
   "metadata": {
    "collapsed": false
   },
   "outputs": [
    {
     "name": "stdout",
     "output_type": "stream",
     "text": [
      "100.0\n"
     ]
    }
   ],
   "source": [
    "print(example1.f2cell(212))"
   ]
  },
  {
   "cell_type": "markdown",
   "metadata": {},
   "source": [
    "Lets say you want to add another function to this module, then all I have to do is to append to the file, and then reload it using the autoreload function. Note that you can use a text editor to this too, like what I did in class."
   ]
  },
  {
   "cell_type": "code",
   "execution_count": 63,
   "metadata": {
    "collapsed": false
   },
   "outputs": [
    {
     "name": "stdout",
     "output_type": "stream",
     "text": [
      "Appending to example1.py\n"
     ]
    }
   ],
   "source": [
    "\n",
    "%%writefile example1.py --a\n",
    "\n",
    "def cell2kel(C):\n",
    "    \"\"\"\n",
    "    Converts Celcius to Kelvin\n",
    "    \"\"\"\n",
    "    return(C+273.15)"
   ]
  },
  {
   "cell_type": "code",
   "execution_count": 64,
   "metadata": {
    "collapsed": false
   },
   "outputs": [
    {
     "name": "stdout",
     "output_type": "stream",
     "text": [
      "The autoreload extension is already loaded. To reload it, use:\n",
      "  %reload_ext autoreload\n"
     ]
    }
   ],
   "source": [
    "%load_ext autoreload"
   ]
  },
  {
   "cell_type": "code",
   "execution_count": 65,
   "metadata": {
    "collapsed": false
   },
   "outputs": [],
   "source": [
    "%autoreload 2"
   ]
  },
  {
   "cell_type": "code",
   "execution_count": 66,
   "metadata": {
    "collapsed": false
   },
   "outputs": [
    {
     "name": "stdout",
     "output_type": "stream",
     "text": [
      "373.15\n"
     ]
    }
   ],
   "source": [
    "print(example1.cell2kel(100))"
   ]
  },
  {
   "cell_type": "markdown",
   "metadata": {
    "collapsed": true
   },
   "source": [
    "## Flow control"
   ]
  },
  {
   "cell_type": "markdown",
   "metadata": {},
   "source": [
    "While loops performs iterations until a condition is true. The boolean operators used  in while and if\n",
    "loops are summarized below\n",
    "\n",
    "| Operator | Meaning               |\n",
    "|----------|-----------------------|\n",
    "| ==       | Equal to              |\n",
    "| !=       | Not Equal             |\n",
    "| $<$      | Less than             |\n",
    "| $>$      | Greater than          |\n",
    "| $<=$     | Less than or equal    |\n",
    "| $>=$     | Greater than or equal |"
   ]
  },
  {
   "cell_type": "code",
   "execution_count": 82,
   "metadata": {
    "collapsed": true
   },
   "outputs": [],
   "source": [
    "A=[\"A\",\"B\",\"C\",\"D\",\"E\",\"F\",\"G\",\"H\",\"I\",\"J\",\"K\",\"L\",\n",
    "   \"M\",\"N\",\"O\",\"P\",\"Q\",\"R\",\"S\",\"T\",\"U\",\"V\",\"W\",\"X\",\"Y\",\"Z\"]"
   ]
  },
  {
   "cell_type": "markdown",
   "metadata": {},
   "source": [
    "Simple for loop that display the first 12 letters of the alphabet"
   ]
  },
  {
   "cell_type": "code",
   "execution_count": 70,
   "metadata": {
    "collapsed": false
   },
   "outputs": [
    {
     "name": "stdout",
     "output_type": "stream",
     "text": [
      "Letter 1  is A\n",
      "Letter 2  is B\n",
      "Letter 3  is C\n",
      "Letter 4  is D\n",
      "Letter 5  is E\n",
      "Letter 6  is F\n",
      "Letter 7  is G\n",
      "Letter 8  is H\n",
      "Letter 9  is I\n",
      "Letter 10  is J\n",
      "Letter 11  is K\n",
      "Letter 12  is L\n"
     ]
    }
   ],
   "source": [
    "for ii in range(12):\n",
    "    print(\"Letter\", ii+1, \" is\", A[ii])"
   ]
  },
  {
   "cell_type": "markdown",
   "metadata": {},
   "source": [
    "Simple loop that displays every other letter of the alphabet"
   ]
  },
  {
   "cell_type": "code",
   "execution_count": 71,
   "metadata": {
    "collapsed": false
   },
   "outputs": [
    {
     "name": "stdout",
     "output_type": "stream",
     "text": [
      "Letter 1  is A\n",
      "Letter 3  is C\n",
      "Letter 5  is E\n",
      "Letter 7  is G\n",
      "Letter 9  is I\n",
      "Letter 11  is K\n",
      "Letter 13  is M\n",
      "Letter 15  is O\n",
      "Letter 17  is Q\n",
      "Letter 19  is S\n",
      "Letter 21  is U\n",
      "Letter 23  is W\n"
     ]
    }
   ],
   "source": [
    "for ii in range(0,24,2):\n",
    "    print(\"Letter\", ii+1, \" is\", A[ii])"
   ]
  },
  {
   "cell_type": "markdown",
   "metadata": {},
   "source": [
    "A simple while loop tells you when your tea has cooled frome 120 C to 60 C assuming that it\n",
    " cools by 1 C each time"
   ]
  },
  {
   "cell_type": "code",
   "execution_count": 75,
   "metadata": {
    "collapsed": false
   },
   "outputs": [
    {
     "name": "stdout",
     "output_type": "stream",
     "text": [
      "The temperature of a perfect cup of tea is  60 degrees Celcius or  140.0 degrees Farhrenheit\n"
     ]
    }
   ],
   "source": [
    "temp = 120\n",
    "while temp > 60:\n",
    "    temp=temp-1\n",
    "print(\"The temperature of a perfect cup of tea is \", temp, \n",
    "      'degrees Celcius', \"or \", example1.cel2f(temp),\"degrees Farhrenheit\")"
   ]
  },
  {
   "cell_type": "markdown",
   "metadata": {},
   "source": [
    "## Importanting and displaying images\n",
    "\n",
    "For the majority of this course we will be using the following modules\n",
    "\n",
    "1. Scipy\n",
    "2. Numpy\n",
    "3. Skimage\n",
    "4. Matplotlib\n",
    "\n",
    "**PLEASE FAMILARIZE YOUR SELF WITH THESE modulues**"
   ]
  },
  {
   "cell_type": "code",
   "execution_count": 78,
   "metadata": {
    "collapsed": false
   },
   "outputs": [],
   "source": [
    "%matplotlib inline\n",
    "import matplotlib.pyplot as plt\n",
    "from skimage import data"
   ]
  },
  {
   "cell_type": "code",
   "execution_count": 79,
   "metadata": {
    "collapsed": false
   },
   "outputs": [],
   "source": [
    "I=data.chelsea()"
   ]
  },
  {
   "cell_type": "code",
   "execution_count": 81,
   "metadata": {
    "collapsed": false
   },
   "outputs": [
    {
     "data": {
      "image/png": "[encoded data removed]",
      "text/plain": [
       "<matplotlib.figure.Figure at 0x10aee4e48>"
      ]
     },
     "metadata": {},
     "output_type": "display_data"
    }
   ],
   "source": [
    "plt.subplot(1,2,1); plt.imshow(I,aspect=\"auto\"); plt.axis(\"off\")\n",
    "plt.subplot(1,2,2); plt.imshow(data.horse(),aspect=\"auto\"); plt.axis(\"off\")\n",
    "plt.tight_layout()"
   ]
  },
  {
   "cell_type": "code",
   "execution_count": null,
   "metadata": {
    "collapsed": true
   },
   "outputs": [],
   "source": []
  }
 ],
 "metadata": {
  "kernelspec": {
   "display_name": "Python 3",
   "language": "python",
   "name": "python3"
  },
  "language_info": {
   "codemirror_mode": {
    "name": "ipython",
    "version": 3
   },
   "file_extension": ".py",
   "mimetype": "text/x-python",
   "name": "python",
   "nbconvert_exporter": "python",
   "pygments_lexer": "ipython3",
   "version": "3.4.3"
  }
 },
 "nbformat": 4,
 "nbformat_minor": 0
}
